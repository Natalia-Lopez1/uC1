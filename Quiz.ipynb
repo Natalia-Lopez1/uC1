{
  "nbformat": 4,
  "nbformat_minor": 0,
  "metadata": {
    "colab": {
      "provenance": [],
      "authorship_tag": "ABX9TyP1f4jWohULYThc8I7QyHCM",
      "include_colab_link": true
    },
    "kernelspec": {
      "name": "python3",
      "display_name": "Python 3"
    },
    "language_info": {
      "name": "python"
    }
  },
  "cells": [
    {
      "cell_type": "markdown",
      "metadata": {
        "id": "view-in-github",
        "colab_type": "text"
      },
      "source": [
        "<a href=\"https://colab.research.google.com/github/Natalia-Lopez1/uC1/blob/main/Quiz.ipynb\" target=\"_parent\"><img src=\"https://colab.research.google.com/assets/colab-badge.svg\" alt=\"Open In Colab\"/></a>"
      ]
    },
    {
      "cell_type": "code",
      "execution_count": 80,
      "metadata": {
        "colab": {
          "base_uri": "https://localhost:8080/"
        },
        "id": "XPfsc_ndgtHJ",
        "outputId": "8e0263ab-9391-4929-b88a-98bf714a8afe"
      },
      "outputs": [
        {
          "output_type": "stream",
          "name": "stdout",
          "text": [
            "El promedio es: 2.5\n"
          ]
        }
      ],
      "source": [
        "def promedio(V):\n",
        "\n",
        "  sum = 0\n",
        "  k= len(V)\n",
        "\n",
        "  for i in range(k):\n",
        "     sum = sum + V[i]\n",
        "\n",
        "  promedio = sum / k\n",
        "  return promedio\n",
        "\n",
        "V=[1,2,3,4]\n",
        "\n",
        "res= promedio(V)\n",
        "\n",
        "print (\"El promedio es:\" , res)"
      ]
    },
    {
      "cell_type": "code",
      "source": [
        "from math import sqrt\n",
        "\n",
        "def promedio(V):\n",
        "    suma = sum(V)\n",
        "    k = len(V)\n",
        "    return suma / k\n",
        "\n",
        "def desv_est(V):\n",
        "\n",
        "   prom=promedio(V)\n",
        "   sum = 0\n",
        "   k = len(V)\n",
        "\n",
        "   for i in range (k):\n",
        "      sum = sum + (V[i] - prom)**2\n",
        "\n",
        "   teta = sqrt(sum/k)\n",
        "   return teta\n",
        "\n",
        "V=[1,2,3,4]\n",
        "\n",
        "res=desv_est(V)\n",
        "print(\"La desviación estandar es:\" , res)\n"
      ],
      "metadata": {
        "colab": {
          "base_uri": "https://localhost:8080/"
        },
        "id": "6nXY9SdKpJW9",
        "outputId": "9994df35-5e30-443a-8a01-f650b45918f4"
      },
      "execution_count": 81,
      "outputs": [
        {
          "output_type": "stream",
          "name": "stdout",
          "text": [
            "La desviación estandar es: 1.118033988749895\n"
          ]
        }
      ]
    },
    {
      "cell_type": "code",
      "source": [
        "from math import sqrt\n",
        "\n",
        "def promedio(V):\n",
        "    suma = sum(V)\n",
        "    k = len(V)\n",
        "    return suma / k\n",
        "\n",
        "def desv_est(V):\n",
        "    prom = promedio(V)\n",
        "    suma = 0\n",
        "    k = len(V)\n",
        "\n",
        "    for i in range(k):\n",
        "        suma = suma + (V[i] - prom) ** 2\n",
        "\n",
        "    teta = sqrt(suma / k)\n",
        "    return teta\n",
        "\n",
        "def varianza(V):\n",
        "\n",
        "  teta=desv_est(V)\n",
        "\n",
        "  x= teta ** 2\n",
        "\n",
        "  return x\n",
        "\n",
        "V=[1,2,3,4]\n",
        "\n",
        "res= varianza(V)\n",
        "\n",
        "print(\"La varianza es:\", res)\n"
      ],
      "metadata": {
        "colab": {
          "base_uri": "https://localhost:8080/"
        },
        "id": "P8XGMPEV1Anz",
        "outputId": "a3834b3e-b459-4120-a604-034f9edfd9c4"
      },
      "execution_count": 82,
      "outputs": [
        {
          "output_type": "stream",
          "name": "stdout",
          "text": [
            "La varianza es: 1.2500000000000002\n"
          ]
        }
      ]
    }
  ]
}