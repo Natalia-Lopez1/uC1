{
  "nbformat": 4,
  "nbformat_minor": 0,
  "metadata": {
    "colab": {
      "provenance": [],
      "authorship_tag": "ABX9TyPv9VjCyBYjcUY74EKwel/z",
      "include_colab_link": true
    },
    "kernelspec": {
      "name": "python3",
      "display_name": "Python 3"
    },
    "language_info": {
      "name": "python"
    }
  },
  "cells": [
    {
      "cell_type": "markdown",
      "metadata": {
        "id": "view-in-github",
        "colab_type": "text"
      },
      "source": [
        "<a href=\"https://colab.research.google.com/github/Natalia-Lopez1/uC1/blob/main/elem_array.ipynb\" target=\"_parent\"><img src=\"https://colab.research.google.com/assets/colab-badge.svg\" alt=\"Open In Colab\"/></a>"
      ]
    },
    {
      "cell_type": "code",
      "source": [
        "from array import array"
      ],
      "metadata": {
        "id": "ZEcknbMFzgTg"
      },
      "execution_count": 2,
      "outputs": []
    },
    {
      "cell_type": "code",
      "execution_count": 21,
      "metadata": {
        "colab": {
          "base_uri": "https://localhost:8080/"
        },
        "id": "HUKRehJvziRT",
        "outputId": "f45612f4-e334-4bfd-c009-0d9a03b44113"
      },
      "outputs": [
        {
          "output_type": "stream",
          "name": "stdout",
          "text": [
            "El elemento en la posición (0, 2) es: 2.0\n",
            "array('f', [1.0, 2.0, 3.0, 4.0, 5.0, 6.0, 7.0, 8.0, 9.0])\n"
          ]
        }
      ],
      "source": [
        "def elemen(A, i, j):\n",
        "  if 0 <= i < 3 and 0 <= j < 3:\n",
        "        index = i * 3 + j\n",
        "        return A[index]\n",
        "\n",
        "A= array ('f', [1,2,3,4,5,6,7,8,9])\n",
        "\n",
        "resultado= elemen(A, 0, 1)\n",
        "print(\"El elemento en la posición (0, 2) es:\", resultado)\n",
        "print(A)\n"
      ]
    },
    {
      "cell_type": "code",
      "source": [
        "def intercambiar_filas(A, fila1, fila2):\n",
        "    \"\"\"\n",
        "    Intercambia las filas fila1 y fila2 en una matriz.\n",
        "\n",
        "    Parameters:\n",
        "    - matriz: Lista de listas representando una matriz\n",
        "    - fila1: Índice de la primera fila a intercambiar\n",
        "    - fila2: Índice de la segunda fila a intercambiar\n",
        "    \"\"\"\n",
        "    # Verificar que los índices de las filas estén dentro de los límites de la matriz\n",
        "    if 0 <= fila1 < len(A) and 0 <= fila2 < len(A):\n",
        "        # Intercambiar las filas utilizando una variable temporal\n",
        "        temp = A[fila1]\n",
        "        A[fila1] = A[fila2]\n",
        "        A[fila2] = temp\n",
        "    else:\n",
        "        print(\"Índices de filas fuera de los límites de la matriz.\")\n",
        "\n",
        "print(\"Matriz original:\")\n",
        "for fila in A:\n",
        "    print(fila)\n",
        "\n",
        "# Intercambiar la primera fila con la segunda\n",
        "intercambiar_filas(A, 0, 1)\n",
        "\n",
        "print(\"\\nMatriz después del intercambio:\")\n",
        "for fila in A:\n",
        "    print(A)"
      ],
      "metadata": {
        "colab": {
          "base_uri": "https://localhost:8080/"
        },
        "id": "VpnQpzFt3dIR",
        "outputId": "425d74f6-9646-46fb-90b7-801bac4465e3"
      },
      "execution_count": 22,
      "outputs": [
        {
          "output_type": "stream",
          "name": "stdout",
          "text": [
            "Matriz original:\n",
            "1.0\n",
            "2.0\n",
            "3.0\n",
            "4.0\n",
            "5.0\n",
            "6.0\n",
            "7.0\n",
            "8.0\n",
            "9.0\n",
            "\n",
            "Matriz después del intercambio:\n",
            "array('f', [2.0, 1.0, 3.0, 4.0, 5.0, 6.0, 7.0, 8.0, 9.0])\n",
            "array('f', [2.0, 1.0, 3.0, 4.0, 5.0, 6.0, 7.0, 8.0, 9.0])\n",
            "array('f', [2.0, 1.0, 3.0, 4.0, 5.0, 6.0, 7.0, 8.0, 9.0])\n",
            "array('f', [2.0, 1.0, 3.0, 4.0, 5.0, 6.0, 7.0, 8.0, 9.0])\n",
            "array('f', [2.0, 1.0, 3.0, 4.0, 5.0, 6.0, 7.0, 8.0, 9.0])\n",
            "array('f', [2.0, 1.0, 3.0, 4.0, 5.0, 6.0, 7.0, 8.0, 9.0])\n",
            "array('f', [2.0, 1.0, 3.0, 4.0, 5.0, 6.0, 7.0, 8.0, 9.0])\n",
            "array('f', [2.0, 1.0, 3.0, 4.0, 5.0, 6.0, 7.0, 8.0, 9.0])\n",
            "array('f', [2.0, 1.0, 3.0, 4.0, 5.0, 6.0, 7.0, 8.0, 9.0])\n"
          ]
        }
      ]
    }
  ]
}