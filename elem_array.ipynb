{
  "nbformat": 4,
  "nbformat_minor": 0,
  "metadata": {
    "colab": {
      "provenance": [],
      "include_colab_link": true
    },
    "kernelspec": {
      "name": "python3",
      "display_name": "Python 3"
    },
    "language_info": {
      "name": "python"
    }
  },
  "cells": [
    {
      "cell_type": "markdown",
      "metadata": {
        "id": "view-in-github",
        "colab_type": "text"
      },
      "source": [
        "<a href=\"https://colab.research.google.com/github/Natalia-Lopez1/uC1/blob/main/elem_array.ipynb\" target=\"_parent\"><img src=\"https://colab.research.google.com/assets/colab-badge.svg\" alt=\"Open In Colab\"/></a>"
      ]
    },
    {
      "cell_type": "code",
      "source": [
        "from array import array\n",
        "import sympy as sp"
      ],
      "metadata": {
        "id": "ZEcknbMFzgTg"
      },
      "execution_count": 8,
      "outputs": []
    },
    {
      "cell_type": "code",
      "execution_count": 43,
      "metadata": {
        "colab": {
          "base_uri": "https://localhost:8080/"
        },
        "id": "HUKRehJvziRT",
        "outputId": "a1953996-7d98-496d-ca8f-4e0884eb351c"
      },
      "outputs": [
        {
          "output_type": "stream",
          "name": "stdout",
          "text": [
            "El elemento en la posición (0, 2) es: 3.0\n",
            "array('f', [1.0, 2.0, 3.0, 4.0, 5.0, 6.0, 7.0, 8.0, 9.0])\n"
          ]
        }
      ],
      "source": [
        "def elemen(A, i, j):\n",
        "  if 0 <= i < 3 and 0 <= j < 3:\n",
        "        index = i * 3 + j\n",
        "        return A[index]\n",
        "\n",
        "A= array ('f', [1,2,3,4,5,6,7,8,9])\n",
        "\n",
        "resultado= elemen(A, 0, 2)\n",
        "print(\"El elemento en la posición (0, 2) es:\", resultado)\n",
        "print(A)\n",
        "#A[0:3]\n",
        "#A[3:6]\n",
        "#A[6:9]"
      ]
    },
    {
      "cell_type": "code",
      "source": [
        "def intercambiar_filas1(A, fila0, fila1):\n",
        "    \"\"\"\n",
        "    Intercambia las filas fila0 y fila1 en una matriz.\n",
        "    \"\"\"\n",
        "\n",
        "    # Verificar que los índices de las filas estén dentro de los límites de la matriz\n",
        "    if 0 <= fila0 < len(A) and 0 <= fila1 < len(A):\n",
        "        # Intercambiar las filas utilizando una variable temporal\n",
        "        temp = A[fila0]\n",
        "        A[fila0] = A[fila1]\n",
        "        A[fila1] = temp\n",
        "    else:\n",
        "        print(\"Índices de filas fuera de los límites de la matriz.\")\n",
        "\n",
        "print(\"Matriz original:\")\n",
        "for fila in A:\n",
        "    print(fila)\n",
        "\n",
        "# Intercambiar la primera fila con la segunda\n",
        "intercambiar_filas1(A, 3, 0)\n",
        "intercambiar_filas1(A, 4, 1)\n",
        "intercambiar_filas1(A, 5, 2)\n",
        "\n",
        "print(\"\\nMatriz después del intercambio:\")\n",
        "for fila in A:\n",
        "    print(fila)"
      ],
      "metadata": {
        "colab": {
          "base_uri": "https://localhost:8080/"
        },
        "id": "VpnQpzFt3dIR",
        "outputId": "cc6dba3d-2e74-4e9b-9751-4721b5e1163b"
      },
      "execution_count": 52,
      "outputs": [
        {
          "output_type": "stream",
          "name": "stdout",
          "text": [
            "Matriz original:\n",
            "1.0\n",
            "2.0\n",
            "3.0\n",
            "4.0\n",
            "5.0\n",
            "6.0\n",
            "7.0\n",
            "8.0\n",
            "9.0\n",
            "\n",
            "Matriz después del intercambio:\n",
            "4.0\n",
            "5.0\n",
            "6.0\n",
            "1.0\n",
            "2.0\n",
            "3.0\n",
            "7.0\n",
            "8.0\n",
            "9.0\n"
          ]
        }
      ]
    },
    {
      "cell_type": "code",
      "source": [
        "#Ejemplo con sympy del funcionamiendo del codigo\n",
        "\n",
        "N = sp.Matrix([\n",
        "    [1, 2, 3,],\n",
        "    [4, 5, 6],\n",
        "    [7, 8, 9],\n",
        "\n",
        "])\n",
        "\n",
        "M= N[:,:]\n",
        "\n",
        "M.row_swap(0,1)\n",
        "\n",
        "M"
      ],
      "metadata": {
        "id": "E5_4Y8BwlPem",
        "outputId": "fd080dc1-4c3d-4d71-9cfd-d53d3ef38d6d",
        "colab": {
          "base_uri": "https://localhost:8080/",
          "height": 78
        }
      },
      "execution_count": 60,
      "outputs": [
        {
          "output_type": "execute_result",
          "data": {
            "text/plain": [
              "Matrix([\n",
              "[4, 5, 6],\n",
              "[1, 2, 3],\n",
              "[7, 8, 9]])"
            ],
            "text/latex": "$\\displaystyle \\left[\\begin{matrix}4 & 5 & 6\\\\1 & 2 & 3\\\\7 & 8 & 9\\end{matrix}\\right]$"
          },
          "metadata": {},
          "execution_count": 60
        }
      ]
    },
    {
      "cell_type": "code",
      "source": [
        "def multiplicar_renglon_por_escalar(matriz, indice_renglon, escalar):\n",
        "    \"\"\"\n",
        "    Multiplica un renglón específico de la matriz por un escalar.\n",
        "\n",
        "    Parameters:\n",
        "    - matriz: Lista de listas representando una matriz\n",
        "    - indice_renglon: Índice del renglón a multiplicar por el escalar\n",
        "    - escalar: Valor por el cual multiplicar cada elemento del renglón\n",
        "\n",
        "    Returns:\n",
        "    - Nueva matriz resultante después de la multiplicación\n",
        "    \"\"\"\n",
        "    # Verificar que el índice del renglón esté dentro de los límites de la matriz\n",
        "    if 0 <= indice_renglon < len(matriz):\n",
        "        # Multiplicar cada elemento del renglón por el escalar\n",
        "        matriz[indice_renglon] = [elemento * escalar for elemento in matriz[indice_renglon]]\n",
        "        return matriz\n",
        "    else:\n",
        "        print(\"Índice de renglón fuera de los límites de la matriz.\")\n",
        "        return None  # Puedes elegir manejar este caso de acuerdo a tus necesidades\n",
        "\n",
        "# Ejemplo de uso\n",
        "matriz_original = [\n",
        "    [1, 2, 3],\n",
        "    [4, 5, 6],\n",
        "    [7, 8, 9]\n",
        "]\n",
        "\n",
        "indice_renglon_a_multiplicar = 1\n",
        "escalar = 2\n",
        "\n",
        "# Multiplicar el segundo renglón por el escalar\n",
        "matriz_resultante = multiplicar_renglon_por_escalar(matriz_original, indice_renglon_a_multiplicar, escalar)\n",
        "\n",
        "# Imprimir la matriz original y la matriz resultante\n",
        "print(\"Matriz original:\")\n",
        "for fila in matriz_original:\n",
        "    print(fila)\n",
        "\n",
        "print(\"\\nMatriz resultante después de la multiplicación del renglón por escalar:\")\n",
        "for fila in matriz_resultante:\n",
        "    print(fila)\n"
      ],
      "metadata": {
        "id": "cdDGg37Pb5Yt",
        "outputId": "ce78fdd3-a442-43d9-e86e-580a75b58e0a",
        "colab": {
          "base_uri": "https://localhost:8080/"
        }
      },
      "execution_count": 53,
      "outputs": [
        {
          "output_type": "stream",
          "name": "stdout",
          "text": [
            "Matriz original:\n",
            "[1, 2, 3]\n",
            "[8, 10, 12]\n",
            "[7, 8, 9]\n",
            "\n",
            "Matriz resultante después de la multiplicación del renglón por escalar:\n",
            "[1, 2, 3]\n",
            "[8, 10, 12]\n",
            "[7, 8, 9]\n"
          ]
        }
      ]
    }
  ]
}