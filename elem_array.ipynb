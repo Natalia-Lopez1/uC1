{
  "nbformat": 4,
  "nbformat_minor": 0,
  "metadata": {
    "colab": {
      "provenance": [],
      "include_colab_link": true
    },
    "kernelspec": {
      "name": "python3",
      "display_name": "Python 3"
    },
    "language_info": {
      "name": "python"
    }
  },
  "cells": [
    {
      "cell_type": "markdown",
      "metadata": {
        "id": "view-in-github",
        "colab_type": "text"
      },
      "source": [
        "<a href=\"https://colab.research.google.com/github/Natalia-Lopez1/uC1/blob/main/elem_array.ipynb\" target=\"_parent\"><img src=\"https://colab.research.google.com/assets/colab-badge.svg\" alt=\"Open In Colab\"/></a>"
      ]
    },
    {
      "cell_type": "code",
      "source": [
        "from array import array\n",
        "import sympy as sp"
      ],
      "metadata": {
        "id": "ZEcknbMFzgTg"
      },
      "execution_count": 3,
      "outputs": []
    },
    {
      "cell_type": "code",
      "execution_count": 68,
      "metadata": {
        "colab": {
          "base_uri": "https://localhost:8080/"
        },
        "id": "HUKRehJvziRT",
        "outputId": "8fcaf419-3612-4e87-8ca0-5b33ced3d4b1"
      },
      "outputs": [
        {
          "output_type": "stream",
          "name": "stdout",
          "text": [
            "El elemento en la posición (0, 2) es: 3.0\n",
            "array('f', [1.0, 2.0, 3.0, 4.0, 5.0, 6.0, 7.0, 8.0, 9.0])\n"
          ]
        }
      ],
      "source": [
        "def elemen(A, i, j):\n",
        "  if 0 <= i < 3 and 0 <= j < 3:\n",
        "        index = i * 3 + j\n",
        "        return A[index]\n",
        "\n",
        "A= array ('f', [1,2,3,4,5,6,7,8,9])\n",
        "\n",
        "resultado= elemen(A, 0, 2)\n",
        "print(\"El elemento en la posición (0, 2) es:\", resultado)\n",
        "print(A)\n",
        "#A[0:3]\n",
        "#A[3:6]\n",
        "#A[6:9]"
      ]
    },
    {
      "cell_type": "code",
      "source": [
        "def intercambiar_filas1(A, fila0, fila1):\n",
        "    \"\"\"\n",
        "    Intercambia las filas fila0 y fila1 en una matriz.\n",
        "    \"\"\"\n",
        "\n",
        "    # Verificar que los índices de las filas estén dentro de los límites de la matriz\n",
        "    if 0 <= fila0 < len(A) and 0 <= fila1 < len(A):\n",
        "        # Intercambiar las filas utilizando una variable temporal\n",
        "        temp = A[fila0]\n",
        "        A[fila0] = A[fila1]\n",
        "        A[fila1] = temp\n",
        "    else:\n",
        "        print(\"Índices de filas fuera de los límites de la matriz.\")\n",
        "\n",
        "print(\"Matriz original:\")\n",
        "for fila in A:\n",
        "    print(fila)\n",
        "\n",
        "# Intercambiar la primera fila con la segunda\n",
        "intercambiar_filas1(A, 3, 0)\n",
        "intercambiar_filas1(A, 4, 1)\n",
        "intercambiar_filas1(A, 5, 2)\n",
        "\n",
        "print(\"\\nMatriz después del intercambio:\")\n",
        "for fila in A:\n",
        "    print(fila)"
      ],
      "metadata": {
        "colab": {
          "base_uri": "https://localhost:8080/"
        },
        "id": "VpnQpzFt3dIR",
        "outputId": "399bf8b7-cd20-44d5-b752-c78f095043fc"
      },
      "execution_count": 5,
      "outputs": [
        {
          "output_type": "stream",
          "name": "stdout",
          "text": [
            "Matriz original:\n",
            "1.0\n",
            "2.0\n",
            "3.0\n",
            "4.0\n",
            "5.0\n",
            "6.0\n",
            "7.0\n",
            "8.0\n",
            "9.0\n",
            "\n",
            "Matriz después del intercambio:\n",
            "4.0\n",
            "5.0\n",
            "6.0\n",
            "1.0\n",
            "2.0\n",
            "3.0\n",
            "7.0\n",
            "8.0\n",
            "9.0\n"
          ]
        }
      ]
    },
    {
      "cell_type": "code",
      "source": [
        "#Ejemplo con sympy del funcionamiendo del codigo\n",
        "\n",
        "N = sp.Matrix([\n",
        "    [1, 2, 3,],\n",
        "    [4, 5, 6],\n",
        "    [7, 8, 9],\n",
        "\n",
        "])\n",
        "\n",
        "M= N[:,:]\n",
        "\n",
        "M.row_swap(0,1)\n",
        "\n",
        "M"
      ],
      "metadata": {
        "colab": {
          "base_uri": "https://localhost:8080/",
          "height": 78
        },
        "id": "E5_4Y8BwlPem",
        "outputId": "99012c5b-575c-427c-d26a-5f1524e3d23f"
      },
      "execution_count": 6,
      "outputs": [
        {
          "output_type": "execute_result",
          "data": {
            "text/plain": [
              "Matrix([\n",
              "[4, 5, 6],\n",
              "[1, 2, 3],\n",
              "[7, 8, 9]])"
            ],
            "text/latex": "$\\displaystyle \\left[\\begin{matrix}4 & 5 & 6\\\\1 & 2 & 3\\\\7 & 8 & 9\\end{matrix}\\right]$"
          },
          "metadata": {},
          "execution_count": 6
        }
      ]
    },
    {
      "cell_type": "code",
      "source": [],
      "metadata": {
        "id": "1WAiJ1LxSQxQ"
      },
      "execution_count": null,
      "outputs": []
    },
    {
      "cell_type": "code",
      "source": [
        "def multiplicar_renglon_por_escalar(A, indice_renglon, escalar):\n",
        "    \"\"\"\n",
        "    Multiplica un renglón específico de la matriz por un escalar.\n",
        "\n",
        "    Parameters:\n",
        "    - A: Lista de listas representando una matriz\n",
        "    - indice_renglon: Índice del renglón a multiplicar por el escalar\n",
        "    - escalar: Valor por el cual multiplicar cada elemento del renglón\n",
        "    \"\"\"\n",
        "    # Verificar que el índice del renglón esté dentro de los límites de la matriz\n",
        "    if 0 < indice_renglon >= 3:\n",
        "        return None\n",
        "\n",
        "    # Multiplicar cada elemento del renglón por el escalar\n",
        "    if indice_renglon == 0:\n",
        "      d = array ('f' , [escalar*A[0], escalar*A[1], escalar*A[2], A[3], A[4], A[5],A[6], A[7],A[8]])\n",
        "      return d\n",
        "\n",
        "    if indice_renglon == 1:\n",
        "      d = array ('f' , [A[0], A[1], A[2], escalar*A[3], escalar*A[4], escalar*A[5],A[6], A[7],A[8]])\n",
        "      return d\n",
        "\n",
        "    if indice_renglon == 2:\n",
        "      d = array ('f' , [A[0], A[1], A[2], A[3], A[4], A[5],escalar*A[6], escalar*A[7], escalar*A[8]])\n",
        "      return d\n",
        "\n",
        "#Ejemplo\n",
        "\n",
        "indice_renglon = 0\n",
        "escalar = 2\n",
        "\n",
        "A = multiplicar_renglon_por_escalar(A, indice_renglon, escalar)\n",
        "print(A)"
      ],
      "metadata": {
        "colab": {
          "base_uri": "https://localhost:8080/"
        },
        "id": "YL39i2dTSeOQ",
        "outputId": "9bf53b85-a8e3-45c2-f697-1096d4646f09"
      },
      "execution_count": 53,
      "outputs": [
        {
          "output_type": "stream",
          "name": "stdout",
          "text": [
            "array('f', [2.0, 4.0, 6.0, 4.0, 5.0, 6.0, 7.0, 8.0, 9.0])\n"
          ]
        }
      ]
    },
    {
      "cell_type": "code",
      "source": [
        "#Ejemplo con Sympy\n",
        "\n",
        "N = sp.Matrix([\n",
        "    [1, 2, 3,],\n",
        "    [4, 5, 6],\n",
        "    [7, 8, 9],\n",
        "\n",
        "])\n",
        "\n",
        "R= N[0,:]*2\n",
        "\n",
        "R"
      ],
      "metadata": {
        "colab": {
          "base_uri": "https://localhost:8080/",
          "height": 38
        },
        "id": "3HCvQVgUYXAI",
        "outputId": "70225c92-d60b-44d0-a251-6b4d1af22c1c"
      },
      "execution_count": 61,
      "outputs": [
        {
          "output_type": "execute_result",
          "data": {
            "text/plain": [
              "Matrix([[2, 4, 6]])"
            ],
            "text/latex": "$\\displaystyle \\left[\\begin{matrix}2 & 4 & 6\\end{matrix}\\right]$"
          },
          "metadata": {},
          "execution_count": 61
        }
      ]
    },
    {
      "cell_type": "code",
      "source": [
        "def sumar_multiplo_de_renglon(A, D, I, R):\n",
        "\n",
        "    # Verificar que los índices de los renglones estén dentro de los límites de la matriz\n",
        "    if D < 0 or D >= 3 or R < 0 or R >=3:\n",
        "      return None\n",
        "\n",
        "    if (D == 0 and R == 0) or (D == 1 and R == 1) or (D == 2 and R == 2):\n",
        "      return None\n",
        "\n",
        "    if (D == 1 and R == 0):\n",
        "      T = array ('f', [I*A[3]+A[0], I*A[4]+A[1], I*A[5]+A[2], A[3], A[4], A[5], A[6], A[7], A[8]])\n",
        "      return T\n",
        "\n",
        "    if (D == 0 and R == 1):\n",
        "      T = array ('f', [A[0], A[1], A[2], I*A[0]+A[3], I*A[1]+A[4], I*A[2]+A[5], A[6], A[7], A[8]])\n",
        "      return T\n",
        "\n",
        "    if (D == 2 and R == 0):\n",
        "      T = array ('f', [I*A[6]+A[0], I*A[7]+A[1], I*A[8]+A[2], A[3], A[4], A[5], A[6], A[7], A[8]])\n",
        "      return T\n",
        "\n",
        "    if (D == 0 and R == 2):\n",
        "      T = array ('f', [A[0], A[1], A[2], A[3], A[4], A[5], I*A[0]+A[6], I*A[1]+A[7], I*A[2]+A[8]])\n",
        "      return T\n",
        "\n",
        "    if (D == 2 and R == 1):\n",
        "      T = array ('f', [A[0], A[1], A[2], I*A[6]+A[3], I*A[7]+A[4], I*A[8]+A[5], A[6], A[7], A[8]])\n",
        "      return T\n",
        "\n",
        "    if (D == 1 and R == 2):\n",
        "      T = array ('f', [A[0], A[1], A[2], A[3], A[4], A[5], I*A[3]+A[6], I*A[4]+A[7], I*A[5]+A[8]])\n",
        "      return T\n",
        "\n",
        "# Ejemplo de uso\n",
        "\n",
        "D = 0\n",
        "\n",
        "I = 2\n",
        "\n",
        "R = 2\n",
        "\n",
        "A = sumar_multiplo_de_renglon(A, D, I, R)\n",
        "\n",
        "print(A)\n"
      ],
      "metadata": {
        "colab": {
          "base_uri": "https://localhost:8080/"
        },
        "id": "aR589y9IS3so",
        "outputId": "a7f6288c-ad45-4601-ed50-66cf9d5c16d6"
      },
      "execution_count": 69,
      "outputs": [
        {
          "output_type": "stream",
          "name": "stdout",
          "text": [
            "array('f', [1.0, 2.0, 3.0, 4.0, 5.0, 6.0, 9.0, 12.0, 15.0])\n"
          ]
        }
      ]
    },
    {
      "cell_type": "code",
      "source": [
        "#Ejemplo con Sympy\n",
        "\n",
        "N = sp.Matrix([\n",
        "    [1, 2, 3,],\n",
        "    [4, 5, 6],\n",
        "    [7, 8, 9],\n",
        "\n",
        "])\n",
        "\n",
        "N[2,:] = N[1,:]*2 + N[0,:]   #Esta operación no se puede contraer\n",
        "N"
      ],
      "metadata": {
        "colab": {
          "base_uri": "https://localhost:8080/",
          "height": 78
        },
        "id": "TJehnznbmm7S",
        "outputId": "9a74e40d-23f2-4544-af53-938b96a90cb7"
      },
      "execution_count": 74,
      "outputs": [
        {
          "output_type": "execute_result",
          "data": {
            "text/plain": [
              "Matrix([\n",
              "[1,  2,  3],\n",
              "[4,  5,  6],\n",
              "[9, 12, 15]])"
            ],
            "text/latex": "$\\displaystyle \\left[\\begin{matrix}1 & 2 & 3\\\\4 & 5 & 6\\\\9 & 12 & 15\\end{matrix}\\right]$"
          },
          "metadata": {},
          "execution_count": 74
        }
      ]
    }
  ]
}